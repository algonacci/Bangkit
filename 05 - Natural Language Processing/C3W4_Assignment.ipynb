{
  "nbformat": 4,
  "nbformat_minor": 0,
  "metadata": {
    "colab": {
      "name": "c3w4-assignment.ipynb",
      "provenance": [],
      "collapsed_sections": []
    },
    "kernelspec": {
      "name": "python3",
      "display_name": "Python 3"
    },
    "language_info": {
      "name": "python"
    }
  },
  "cells": [
    {
      "cell_type": "code",
      "execution_count": 9,
      "metadata": {
        "id": "bF9Qp34qVLP-"
      },
      "outputs": [],
      "source": [
        "import tensorflow as tf\n",
        "import numpy as np \n",
        "import matplotlib.pyplot as plt\n",
        "from tensorflow.keras.models import Sequential\n",
        "from tensorflow.keras.utils import to_categorical \n",
        "from tensorflow.keras.preprocessing.text import Tokenizer\n",
        "from tensorflow.keras.preprocessing.sequence import pad_sequences\n",
        "from tensorflow.keras.layers import Embedding, LSTM, Dense, Bidirectional"
      ]
    },
    {
      "cell_type": "code",
      "source": [
        "# sonnets.txt\n",
        "!gdown --id 108jAePKK4R3BVYBbYJZ32JWUwxeMg20K"
      ],
      "metadata": {
        "colab": {
          "base_uri": "https://localhost:8080/"
        },
        "id": "a_5oyYq8VWOF",
        "outputId": "864dc7c4-2de8-47c9-8f45-7da8eecb06d6"
      },
      "execution_count": 10,
      "outputs": [
        {
          "output_type": "stream",
          "name": "stdout",
          "text": [
            "Downloading...\n",
            "From: https://drive.google.com/uc?id=108jAePKK4R3BVYBbYJZ32JWUwxeMg20K\n",
            "To: /content/sonnets.txt\n",
            "\r  0% 0.00/93.6k [00:00<?, ?B/s]\r100% 93.6k/93.6k [00:00<00:00, 73.7MB/s]\n"
          ]
        }
      ]
    },
    {
      "cell_type": "code",
      "source": [
        "# Define path for file with sonnets\n",
        "SONNETS_FILE = './sonnets.txt'\n",
        "\n",
        "# Read the data\n",
        "with open('./sonnets.txt') as f:\n",
        "    data = f.read()\n",
        "\n",
        "# Convert to lower case and save as a list\n",
        "corpus = data.lower().split(\"\\n\")\n",
        "\n",
        "print(f\"There are {len(corpus)} lines of sonnets\\n\")\n",
        "print(f\"The first 5 lines look like this:\\n\")\n",
        "for i in range(5):\n",
        "  print(corpus[i])"
      ],
      "metadata": {
        "colab": {
          "base_uri": "https://localhost:8080/"
        },
        "id": "0zOIuOn9VXMi",
        "outputId": "ea01d97e-0f96-488d-c9b2-87d7f3bbe1f3"
      },
      "execution_count": 11,
      "outputs": [
        {
          "output_type": "stream",
          "name": "stdout",
          "text": [
            "There are 2159 lines of sonnets\n",
            "\n",
            "The first 5 lines look like this:\n",
            "\n",
            "from fairest creatures we desire increase,\n",
            "that thereby beauty's rose might never die,\n",
            "but as the riper should by time decease,\n",
            "his tender heir might bear his memory:\n",
            "but thou, contracted to thine own bright eyes,\n"
          ]
        }
      ]
    },
    {
      "cell_type": "code",
      "source": [
        "tokenizer = Tokenizer()\n",
        "tokenizer.fit_on_texts(corpus)\n",
        "total_words = len(tokenizer.word_index) + 1"
      ],
      "metadata": {
        "id": "mQHsx7_LVX3a"
      },
      "execution_count": 12,
      "outputs": []
    },
    {
      "cell_type": "code",
      "source": [
        "corpus[0]"
      ],
      "metadata": {
        "colab": {
          "base_uri": "https://localhost:8080/",
          "height": 35
        },
        "id": "7Zh3dT_vVYsi",
        "outputId": "2553cb13-05f8-4ee4-8271-aa44121ad4fc"
      },
      "execution_count": 13,
      "outputs": [
        {
          "output_type": "execute_result",
          "data": {
            "text/plain": [
              "'from fairest creatures we desire increase,'"
            ],
            "application/vnd.google.colaboratory.intrinsic+json": {
              "type": "string"
            }
          },
          "metadata": {},
          "execution_count": 13
        }
      ]
    },
    {
      "cell_type": "code",
      "source": [
        "tokenizer.texts_to_sequences(corpus[0])"
      ],
      "metadata": {
        "colab": {
          "base_uri": "https://localhost:8080/"
        },
        "id": "c3RhrUeMVaBq",
        "outputId": "49100a21-38b3-40f0-f9bf-377c867b0f34"
      },
      "execution_count": 14,
      "outputs": [
        {
          "output_type": "execute_result",
          "data": {
            "text/plain": [
              "[[],\n",
              " [],\n",
              " [58],\n",
              " [],\n",
              " [],\n",
              " [],\n",
              " [17],\n",
              " [6],\n",
              " [],\n",
              " [],\n",
              " [],\n",
              " [],\n",
              " [],\n",
              " [],\n",
              " [],\n",
              " [],\n",
              " [17],\n",
              " [],\n",
              " [],\n",
              " [],\n",
              " [],\n",
              " [],\n",
              " [],\n",
              " [],\n",
              " [],\n",
              " [],\n",
              " [],\n",
              " [],\n",
              " [],\n",
              " [6],\n",
              " [],\n",
              " [],\n",
              " [],\n",
              " [6],\n",
              " [],\n",
              " [],\n",
              " [],\n",
              " [],\n",
              " [17],\n",
              " [],\n",
              " [],\n",
              " []]"
            ]
          },
          "metadata": {},
          "execution_count": 14
        }
      ]
    },
    {
      "cell_type": "code",
      "source": [
        "tokenizer.texts_to_sequences([corpus[0]])"
      ],
      "metadata": {
        "colab": {
          "base_uri": "https://localhost:8080/"
        },
        "id": "Eb3M6LfIVay6",
        "outputId": "62dd5439-386f-424f-f96f-733575a3a39f"
      },
      "execution_count": 15,
      "outputs": [
        {
          "output_type": "execute_result",
          "data": {
            "text/plain": [
              "[[34, 417, 877, 166, 213, 517]]"
            ]
          },
          "metadata": {},
          "execution_count": 15
        }
      ]
    },
    {
      "cell_type": "code",
      "source": [
        "tokenizer.texts_to_sequences([corpus[0]])[0]"
      ],
      "metadata": {
        "colab": {
          "base_uri": "https://localhost:8080/"
        },
        "id": "RaPJGMFpVcAi",
        "outputId": "0bff34f7-3746-409f-80b3-71edba5738ff"
      },
      "execution_count": 16,
      "outputs": [
        {
          "output_type": "execute_result",
          "data": {
            "text/plain": [
              "[34, 417, 877, 166, 213, 517]"
            ]
          },
          "metadata": {},
          "execution_count": 16
        }
      ]
    },
    {
      "cell_type": "code",
      "source": [
        "# GRADED FUNCTION: n_gram_seqs\n",
        "def n_gram_seqs(corpus, tokenizer):\n",
        "  input_sequences = []\n",
        "\n",
        "  ### START CODE HERE\n",
        "\n",
        "  for line in corpus:\n",
        "    token_list = tokenizer.texts_to_sequences([line])[0]\n",
        "    for i in range(1, len(token_list)):\n",
        "      n_gram_sequence = token_list[:i+1]\n",
        "      input_sequences.append(n_gram_sequence)\n",
        "\n",
        "  ### END CODE HERE\n",
        "\n",
        "  return input_sequences"
      ],
      "metadata": {
        "id": "QnPTHEffVd2y"
      },
      "execution_count": 34,
      "outputs": []
    },
    {
      "cell_type": "code",
      "source": [
        "# Test your function with one example\n",
        "first_example_sequence = n_gram_seqs([corpus[0]], tokenizer)\n",
        "\n",
        "print(\"n_gram sequences for first example look like this:\\n\")\n",
        "first_example_sequence"
      ],
      "metadata": {
        "colab": {
          "base_uri": "https://localhost:8080/"
        },
        "id": "td6_Adv3XClD",
        "outputId": "bf4b53ed-6526-439a-ee24-0dfa19ff6fda"
      },
      "execution_count": 35,
      "outputs": [
        {
          "output_type": "stream",
          "name": "stdout",
          "text": [
            "n_gram sequences for first example look like this:\n",
            "\n"
          ]
        },
        {
          "output_type": "execute_result",
          "data": {
            "text/plain": [
              "[[34, 417],\n",
              " [34, 417, 877],\n",
              " [34, 417, 877, 166],\n",
              " [34, 417, 877, 166, 213],\n",
              " [34, 417, 877, 166, 213, 517]]"
            ]
          },
          "metadata": {},
          "execution_count": 35
        }
      ]
    },
    {
      "cell_type": "code",
      "source": [
        "# Test your function with a bigger corpus\n",
        "next_3_examples_sequence = n_gram_seqs(corpus[1:4], tokenizer)\n",
        "\n",
        "print(\"n_gram sequences for next 3 examples look like this:\\n\")\n",
        "next_3_examples_sequence"
      ],
      "metadata": {
        "colab": {
          "base_uri": "https://localhost:8080/"
        },
        "id": "F8f5zI-ZXNw7",
        "outputId": "dcd3574c-6433-4db4-f157-523358058736"
      },
      "execution_count": 36,
      "outputs": [
        {
          "output_type": "stream",
          "name": "stdout",
          "text": [
            "n_gram sequences for next 3 examples look like this:\n",
            "\n"
          ]
        },
        {
          "output_type": "execute_result",
          "data": {
            "text/plain": [
              "[[8, 878],\n",
              " [8, 878, 134],\n",
              " [8, 878, 134, 351],\n",
              " [8, 878, 134, 351, 102],\n",
              " [8, 878, 134, 351, 102, 156],\n",
              " [8, 878, 134, 351, 102, 156, 199],\n",
              " [16, 22],\n",
              " [16, 22, 2],\n",
              " [16, 22, 2, 879],\n",
              " [16, 22, 2, 879, 61],\n",
              " [16, 22, 2, 879, 61, 30],\n",
              " [16, 22, 2, 879, 61, 30, 48],\n",
              " [16, 22, 2, 879, 61, 30, 48, 634],\n",
              " [25, 311],\n",
              " [25, 311, 635],\n",
              " [25, 311, 635, 102],\n",
              " [25, 311, 635, 102, 200],\n",
              " [25, 311, 635, 102, 200, 25],\n",
              " [25, 311, 635, 102, 200, 25, 278]]"
            ]
          },
          "metadata": {},
          "execution_count": 36
        }
      ]
    },
    {
      "cell_type": "code",
      "source": [
        "# Apply the n_gram_seqs transformation to the whole corpus\n",
        "input_sequences = n_gram_seqs(corpus, tokenizer)\n",
        "\n",
        "# Save max length \n",
        "max_sequence_len = max([len(x) for x in input_sequences])\n",
        "\n",
        "print(f\"n_grams of input_sequences have length: {len(input_sequences)}\")\n",
        "print(f\"maximum length of sequences is: {max_sequence_len}\")"
      ],
      "metadata": {
        "colab": {
          "base_uri": "https://localhost:8080/"
        },
        "id": "DizUtL8ZX_Cu",
        "outputId": "7a09ebf1-4512-411e-82fb-cd633ec665c6"
      },
      "execution_count": 37,
      "outputs": [
        {
          "output_type": "stream",
          "name": "stdout",
          "text": [
            "n_grams of input_sequences have length: 15462\n",
            "maximum length of sequences is: 11\n"
          ]
        }
      ]
    },
    {
      "cell_type": "code",
      "source": [
        "# GRADED FUNCTION: pad_seqs\n",
        "def pad_seqs(input_sequences, maxlen):\n",
        "    ### START CODE HERE\n",
        "    padded_sequences = pad_sequences(input_sequences, maxlen=maxlen)\n",
        "    \n",
        "    return padded_sequences\n",
        "    ### END CODE HERE"
      ],
      "metadata": {
        "id": "G5tdlADCYPNT"
      },
      "execution_count": 38,
      "outputs": []
    },
    {
      "cell_type": "code",
      "source": [
        "# Test your function with the n_grams_seq of the first example\n",
        "first_padded_seq = pad_seqs(first_example_sequence, len(first_example_sequence))\n",
        "first_padded_seq"
      ],
      "metadata": {
        "colab": {
          "base_uri": "https://localhost:8080/"
        },
        "id": "-E4_BUrrZMve",
        "outputId": "68a3f452-c0da-4b1f-a983-460a51c3abaa"
      },
      "execution_count": 39,
      "outputs": [
        {
          "output_type": "execute_result",
          "data": {
            "text/plain": [
              "array([[  0,   0,   0,  34, 417],\n",
              "       [  0,   0,  34, 417, 877],\n",
              "       [  0,  34, 417, 877, 166],\n",
              "       [ 34, 417, 877, 166, 213],\n",
              "       [417, 877, 166, 213, 517]], dtype=int32)"
            ]
          },
          "metadata": {},
          "execution_count": 39
        }
      ]
    },
    {
      "cell_type": "code",
      "source": [
        "# Test your function with the n_grams_seq of the next 3 examples\n",
        "next_3_padded_seq = pad_seqs(next_3_examples_sequence, max([len(s) for s in next_3_examples_sequence]))\n",
        "next_3_padded_seq"
      ],
      "metadata": {
        "colab": {
          "base_uri": "https://localhost:8080/"
        },
        "id": "3ItKu2kwZPa2",
        "outputId": "212b31f4-9800-4c7e-f391-b0c29b19fcd1"
      },
      "execution_count": 40,
      "outputs": [
        {
          "output_type": "execute_result",
          "data": {
            "text/plain": [
              "array([[  0,   0,   0,   0,   0,   0,   8, 878],\n",
              "       [  0,   0,   0,   0,   0,   8, 878, 134],\n",
              "       [  0,   0,   0,   0,   8, 878, 134, 351],\n",
              "       [  0,   0,   0,   8, 878, 134, 351, 102],\n",
              "       [  0,   0,   8, 878, 134, 351, 102, 156],\n",
              "       [  0,   8, 878, 134, 351, 102, 156, 199],\n",
              "       [  0,   0,   0,   0,   0,   0,  16,  22],\n",
              "       [  0,   0,   0,   0,   0,  16,  22,   2],\n",
              "       [  0,   0,   0,   0,  16,  22,   2, 879],\n",
              "       [  0,   0,   0,  16,  22,   2, 879,  61],\n",
              "       [  0,   0,  16,  22,   2, 879,  61,  30],\n",
              "       [  0,  16,  22,   2, 879,  61,  30,  48],\n",
              "       [ 16,  22,   2, 879,  61,  30,  48, 634],\n",
              "       [  0,   0,   0,   0,   0,   0,  25, 311],\n",
              "       [  0,   0,   0,   0,   0,  25, 311, 635],\n",
              "       [  0,   0,   0,   0,  25, 311, 635, 102],\n",
              "       [  0,   0,   0,  25, 311, 635, 102, 200],\n",
              "       [  0,   0,  25, 311, 635, 102, 200,  25],\n",
              "       [  0,  25, 311, 635, 102, 200,  25, 278]], dtype=int32)"
            ]
          },
          "metadata": {},
          "execution_count": 40
        }
      ]
    },
    {
      "cell_type": "code",
      "source": [
        "# Pad the whole corpus\n",
        "input_sequences = pad_seqs(input_sequences, max_sequence_len)\n",
        "\n",
        "print(f\"padded corpus has shape: {input_sequences.shape}\")"
      ],
      "metadata": {
        "colab": {
          "base_uri": "https://localhost:8080/"
        },
        "id": "jL3v7EzCZRD-",
        "outputId": "62b9318b-16f7-4764-aeec-23f28b2a344a"
      },
      "execution_count": 41,
      "outputs": [
        {
          "output_type": "stream",
          "name": "stdout",
          "text": [
            "padded corpus has shape: (15462, 11)\n"
          ]
        }
      ]
    },
    {
      "cell_type": "code",
      "source": [
        "# GRADED FUNCTION: features_and_labels\n",
        "def features_and_labels(input_sequences, total_words):\n",
        "  ### START CODE HERE\n",
        "  features = input_sequences[:,:-1]\n",
        "  labels = input_sequences[:,-1]\n",
        "  one_hot_labels = to_categorical(labels, total_words)\n",
        "  ### END CODE HERE\n",
        "\n",
        "  return features, one_hot_labels"
      ],
      "metadata": {
        "id": "vntQTisVZTHm"
      },
      "execution_count": 44,
      "outputs": []
    },
    {
      "cell_type": "code",
      "source": [
        "# Test your function with the padded n_grams_seq of the first example\n",
        "first_features, first_labels = features_and_labels(first_padded_seq, total_words)\n",
        "\n",
        "print(f\"labels have shape: {first_labels.shape}\")\n",
        "print(\"\\nfeatures look like this:\\n\")\n",
        "first_features"
      ],
      "metadata": {
        "colab": {
          "base_uri": "https://localhost:8080/"
        },
        "id": "0H1qgNVVatBL",
        "outputId": "d33cb98e-795d-4831-82d0-12f345bb916a"
      },
      "execution_count": 45,
      "outputs": [
        {
          "output_type": "stream",
          "name": "stdout",
          "text": [
            "labels have shape: (5, 3211)\n",
            "\n",
            "features look like this:\n",
            "\n"
          ]
        },
        {
          "output_type": "execute_result",
          "data": {
            "text/plain": [
              "array([[  0,   0,   0,  34],\n",
              "       [  0,   0,  34, 417],\n",
              "       [  0,  34, 417, 877],\n",
              "       [ 34, 417, 877, 166],\n",
              "       [417, 877, 166, 213]], dtype=int32)"
            ]
          },
          "metadata": {},
          "execution_count": 45
        }
      ]
    },
    {
      "cell_type": "code",
      "source": [
        "# Split the whole corpus\n",
        "features, labels = features_and_labels(input_sequences, total_words)\n",
        "\n",
        "print(f\"features have shape: {features.shape}\")\n",
        "print(f\"labels have shape: {labels.shape}\")"
      ],
      "metadata": {
        "colab": {
          "base_uri": "https://localhost:8080/"
        },
        "id": "FemJtY8fawCa",
        "outputId": "4f9911e2-0b47-4bf2-842d-3acf7aace152"
      },
      "execution_count": 46,
      "outputs": [
        {
          "output_type": "stream",
          "name": "stdout",
          "text": [
            "features have shape: (15462, 10)\n",
            "labels have shape: (15462, 3211)\n"
          ]
        }
      ]
    },
    {
      "cell_type": "code",
      "source": [
        "# GRADED FUNCTION: create_model\n",
        "def create_model(total_words, max_sequence_len):\n",
        "  model = Sequential()\n",
        "  ### START CODE HERE\n",
        "  model.add(Embedding(total_words, 100, input_length=(max_sequence_len-1))),\n",
        "  model.add(Bidirectional(LSTM(150)))\n",
        "  model.add(Dense(total_words, activation=\"softmax\"))\n",
        "\n",
        "  # Compile the model\n",
        "  model.compile(loss=\"categorical_crossentropy\",\n",
        "                optimizer=\"adam\",\n",
        "                metrics=[\"accuracy\"])\n",
        "  \n",
        "  ### END CODE HERE\n",
        "  return model"
      ],
      "metadata": {
        "id": "f-mK979ibJl7"
      },
      "execution_count": 47,
      "outputs": []
    },
    {
      "cell_type": "code",
      "source": [
        "# Get the untrained model\n",
        "model = create_model(total_words, max_sequence_len)\n",
        "\n",
        "# Train the model\n",
        "history = model.fit(features, \n",
        "                    labels, \n",
        "                    epochs=50, \n",
        "                    verbose=1)"
      ],
      "metadata": {
        "colab": {
          "base_uri": "https://localhost:8080/"
        },
        "id": "o0UKUviUcA9M",
        "outputId": "1dd24925-e8cb-4967-fb79-3c18bdc31ed4"
      },
      "execution_count": 48,
      "outputs": [
        {
          "output_type": "stream",
          "name": "stdout",
          "text": [
            "Epoch 1/50\n",
            "484/484 [==============================] - 31s 57ms/step - loss: 6.8950 - accuracy: 0.0222\n",
            "Epoch 2/50\n",
            "484/484 [==============================] - 30s 62ms/step - loss: 6.4487 - accuracy: 0.0319\n",
            "Epoch 3/50\n",
            "484/484 [==============================] - 23s 48ms/step - loss: 6.2021 - accuracy: 0.0426\n",
            "Epoch 4/50\n",
            "484/484 [==============================] - 23s 48ms/step - loss: 5.9024 - accuracy: 0.0544\n",
            "Epoch 5/50\n",
            "484/484 [==============================] - 23s 48ms/step - loss: 5.5706 - accuracy: 0.0660\n",
            "Epoch 6/50\n",
            "484/484 [==============================] - 25s 51ms/step - loss: 5.1912 - accuracy: 0.0819\n",
            "Epoch 7/50\n",
            "484/484 [==============================] - 23s 48ms/step - loss: 4.7725 - accuracy: 0.1050\n",
            "Epoch 8/50\n",
            "484/484 [==============================] - 23s 48ms/step - loss: 4.3423 - accuracy: 0.1401\n",
            "Epoch 9/50\n",
            "484/484 [==============================] - 24s 49ms/step - loss: 3.9057 - accuracy: 0.2026\n",
            "Epoch 10/50\n",
            "484/484 [==============================] - 23s 48ms/step - loss: 3.4996 - accuracy: 0.2744\n",
            "Epoch 11/50\n",
            "484/484 [==============================] - 23s 48ms/step - loss: 3.1290 - accuracy: 0.3395\n",
            "Epoch 12/50\n",
            "484/484 [==============================] - 23s 48ms/step - loss: 2.8014 - accuracy: 0.4041\n",
            "Epoch 13/50\n",
            "484/484 [==============================] - 23s 48ms/step - loss: 2.5194 - accuracy: 0.4648\n",
            "Epoch 14/50\n",
            "484/484 [==============================] - 23s 48ms/step - loss: 2.2737 - accuracy: 0.5143\n",
            "Epoch 15/50\n",
            "484/484 [==============================] - 23s 48ms/step - loss: 2.0498 - accuracy: 0.5630\n",
            "Epoch 16/50\n",
            "484/484 [==============================] - 23s 48ms/step - loss: 1.8547 - accuracy: 0.6061\n",
            "Epoch 17/50\n",
            "484/484 [==============================] - 23s 47ms/step - loss: 1.6874 - accuracy: 0.6444\n",
            "Epoch 18/50\n",
            "484/484 [==============================] - 23s 47ms/step - loss: 1.5332 - accuracy: 0.6779\n",
            "Epoch 19/50\n",
            "484/484 [==============================] - 23s 47ms/step - loss: 1.4032 - accuracy: 0.7081\n",
            "Epoch 20/50\n",
            "484/484 [==============================] - 23s 48ms/step - loss: 1.2814 - accuracy: 0.7337\n",
            "Epoch 21/50\n",
            "484/484 [==============================] - 23s 48ms/step - loss: 1.1778 - accuracy: 0.7556\n",
            "Epoch 22/50\n",
            "484/484 [==============================] - 23s 47ms/step - loss: 1.0910 - accuracy: 0.7711\n",
            "Epoch 23/50\n",
            "484/484 [==============================] - 24s 50ms/step - loss: 1.0173 - accuracy: 0.7887\n",
            "Epoch 24/50\n",
            "484/484 [==============================] - 23s 47ms/step - loss: 0.9414 - accuracy: 0.8005\n",
            "Epoch 25/50\n",
            "484/484 [==============================] - 23s 47ms/step - loss: 0.8895 - accuracy: 0.8105\n",
            "Epoch 26/50\n",
            "484/484 [==============================] - 23s 47ms/step - loss: 0.8377 - accuracy: 0.8203\n",
            "Epoch 27/50\n",
            "484/484 [==============================] - 23s 48ms/step - loss: 0.7941 - accuracy: 0.8265\n",
            "Epoch 28/50\n",
            "484/484 [==============================] - 23s 48ms/step - loss: 0.7569 - accuracy: 0.8321\n",
            "Epoch 29/50\n",
            "484/484 [==============================] - 23s 48ms/step - loss: 0.7319 - accuracy: 0.8341\n",
            "Epoch 30/50\n",
            "484/484 [==============================] - 23s 48ms/step - loss: 0.7108 - accuracy: 0.8380\n",
            "Epoch 31/50\n",
            "484/484 [==============================] - 23s 48ms/step - loss: 0.6906 - accuracy: 0.8382\n",
            "Epoch 32/50\n",
            "484/484 [==============================] - 23s 47ms/step - loss: 0.6678 - accuracy: 0.8422\n",
            "Epoch 33/50\n",
            "484/484 [==============================] - 23s 48ms/step - loss: 0.6543 - accuracy: 0.8446\n",
            "Epoch 34/50\n",
            "484/484 [==============================] - 23s 48ms/step - loss: 0.6409 - accuracy: 0.8456\n",
            "Epoch 35/50\n",
            "484/484 [==============================] - 23s 48ms/step - loss: 0.6341 - accuracy: 0.8458\n",
            "Epoch 36/50\n",
            "484/484 [==============================] - 23s 47ms/step - loss: 0.6222 - accuracy: 0.8471\n",
            "Epoch 37/50\n",
            "484/484 [==============================] - 23s 47ms/step - loss: 0.6151 - accuracy: 0.8467\n",
            "Epoch 38/50\n",
            "484/484 [==============================] - 23s 47ms/step - loss: 0.6052 - accuracy: 0.8476\n",
            "Epoch 39/50\n",
            "484/484 [==============================] - 23s 47ms/step - loss: 0.5981 - accuracy: 0.8486\n",
            "Epoch 40/50\n",
            "484/484 [==============================] - 23s 47ms/step - loss: 0.5970 - accuracy: 0.8479\n",
            "Epoch 41/50\n",
            "484/484 [==============================] - 23s 48ms/step - loss: 0.5913 - accuracy: 0.8477\n",
            "Epoch 42/50\n",
            "484/484 [==============================] - 23s 48ms/step - loss: 0.5849 - accuracy: 0.8498\n",
            "Epoch 43/50\n",
            "484/484 [==============================] - 23s 48ms/step - loss: 0.5825 - accuracy: 0.8490\n",
            "Epoch 44/50\n",
            "484/484 [==============================] - 23s 48ms/step - loss: 0.5778 - accuracy: 0.8500\n",
            "Epoch 45/50\n",
            "484/484 [==============================] - 23s 47ms/step - loss: 0.5773 - accuracy: 0.8494\n",
            "Epoch 46/50\n",
            "484/484 [==============================] - 23s 48ms/step - loss: 0.5734 - accuracy: 0.8474\n",
            "Epoch 47/50\n",
            "484/484 [==============================] - 23s 47ms/step - loss: 0.5767 - accuracy: 0.8470\n",
            "Epoch 48/50\n",
            "484/484 [==============================] - 23s 48ms/step - loss: 0.5748 - accuracy: 0.8474\n",
            "Epoch 49/50\n",
            "484/484 [==============================] - 23s 47ms/step - loss: 0.5659 - accuracy: 0.8485\n",
            "Epoch 50/50\n",
            "484/484 [==============================] - 23s 47ms/step - loss: 0.5595 - accuracy: 0.8498\n"
          ]
        }
      ]
    },
    {
      "cell_type": "code",
      "source": [
        "\n",
        "\n",
        "acc = history.history['accuracy']\n",
        "loss = history.history['loss']\n",
        "\n",
        "epochs = range(len(acc))\n",
        "\n",
        "plt.plot(epochs, acc, 'b', label='Training accuracy')\n",
        "plt.title('Training accuracy')\n",
        "\n",
        "plt.figure()\n",
        "\n",
        "plt.plot(epochs, loss, 'b', label='Training Loss')\n",
        "plt.title('Training loss')\n",
        "plt.legend()\n",
        "\n",
        "plt.show()"
      ],
      "metadata": {
        "colab": {
          "base_uri": "https://localhost:8080/",
          "height": 545
        },
        "id": "b1GW8IR5cFpb",
        "outputId": "991d0870-eeb0-45d9-9b46-be193c3351e6"
      },
      "execution_count": 49,
      "outputs": [
        {
          "output_type": "display_data",
          "data": {
            "text/plain": [
              "<Figure size 432x288 with 1 Axes>"
            ],
            "image/png": "[encoded data removed]"
          },
          "metadata": {
            "needs_background": "light"
          }
        },
        {
          "output_type": "display_data",
          "data": {
            "text/plain": [
              "<Figure size 432x288 with 1 Axes>"
            ],
            "image/png": "[encoded data removed]"
          },
          "metadata": {
            "needs_background": "light"
          }
        }
      ]
    },
    {
      "cell_type": "code",
      "source": [
        "def download_history():\n",
        "  import pickle\n",
        "  from google.colab import files\n",
        "\n",
        "  with open('history.pkl', 'wb') as f:\n",
        "    pickle.dump(history.history, f)\n",
        "\n",
        "  files.download('history.pkl')\n",
        "\n",
        "download_history()"
      ],
      "metadata": {
        "colab": {
          "base_uri": "https://localhost:8080/",
          "height": 17
        },
        "id": "RjD8Tv8vcMCT",
        "outputId": "cc2f2658-3092-4433-8e8d-58b3660287cf"
      },
      "execution_count": 50,
      "outputs": [
        {
          "output_type": "display_data",
          "data": {
            "text/plain": [
              "<IPython.core.display.Javascript object>"
            ],
            "application/javascript": [
              "\n",
              "    async function download(id, filename, size) {\n",
              "      if (!google.colab.kernel.accessAllowed) {\n",
              "        return;\n",
              "      }\n",
              "      const div = document.createElement('div');\n",
              "      const label = document.createElement('label');\n",
              "      label.textContent = `Downloading \"${filename}\": `;\n",
              "      div.appendChild(label);\n",
              "      const progress = document.createElement('progress');\n",
              "      progress.max = size;\n",
              "      div.appendChild(progress);\n",
              "      document.body.appendChild(div);\n",
              "\n",
              "      const buffers = [];\n",
              "      let downloaded = 0;\n",
              "\n",
              "      const channel = await google.colab.kernel.comms.open(id);\n",
              "      // Send a message to notify the kernel that we're ready.\n",
              "      channel.send({})\n",
              "\n",
              "      for await (const message of channel.messages) {\n",
              "        // Send a message to notify the kernel that we're ready.\n",
              "        channel.send({})\n",
              "        if (message.buffers) {\n",
              "          for (const buffer of message.buffers) {\n",
              "            buffers.push(buffer);\n",
              "            downloaded += buffer.byteLength;\n",
              "            progress.value = downloaded;\n",
              "          }\n",
              "        }\n",
              "      }\n",
              "      const blob = new Blob(buffers, {type: 'application/binary'});\n",
              "      const a = document.createElement('a');\n",
              "      a.href = window.URL.createObjectURL(blob);\n",
              "      a.download = filename;\n",
              "      div.appendChild(a);\n",
              "      a.click();\n",
              "      div.remove();\n",
              "    }\n",
              "  "
            ]
          },
          "metadata": {}
        },
        {
          "output_type": "display_data",
          "data": {
            "text/plain": [
              "<IPython.core.display.Javascript object>"
            ],
            "application/javascript": [
              "download(\"download_4404c5b8-d377-4f01-b50c-2deba32b2796\", \"history.pkl\", 944)"
            ]
          },
          "metadata": {}
        }
      ]
    },
    {
      "cell_type": "code",
      "source": [
        "seed_text = \"Help me Obi Wan Kenobi, you're my only hope\"\n",
        "next_words = 100\n",
        "  \n",
        "for _ in range(next_words):\n",
        "\t# Convert the text into sequences\n",
        "\ttoken_list = tokenizer.texts_to_sequences([seed_text])[0]\n",
        "\t# Pad the sequences\n",
        "\ttoken_list = pad_sequences([token_list], maxlen=max_sequence_len-1, padding='pre')\n",
        "\t# Get the probabilities of predicting a word\n",
        "\tpredicted = model.predict(token_list, verbose=0)\n",
        "\t# Choose the next word based on the maximum probability\n",
        "\tpredicted = np.argmax(predicted, axis=-1).item()\n",
        "\t# Get the actual word from the word index\n",
        "\toutput_word = tokenizer.index_word[predicted]\n",
        "\t# Append to the current text\n",
        "\tseed_text += \" \" + output_word\n",
        "\n",
        "print(seed_text)"
      ],
      "metadata": {
        "colab": {
          "base_uri": "https://localhost:8080/"
        },
        "id": "MAZB9_SxcN-7",
        "outputId": "cd7ae68e-cb6e-4c27-9ed9-ff5459262640"
      },
      "execution_count": 51,
      "outputs": [
        {
          "output_type": "stream",
          "name": "stdout",
          "text": [
            "Help me Obi Wan Kenobi, you're my only hope thy inward love of heart heart of their place born did in me merchandized thereby shade drops of time more divide hath one in you alone did tillage it see such hell her thee from thee this grow pleasure where i grew her pleasure you live to half so ill ' from thee doth have i am confined their waste too eyes' die private stay held woman's ' ' ' doth best do distraction of more shall now see forth me things near ' dumb worth in thy deeds would be shown dead end dyed lie ' ' doth others'\n"
          ]
        }
      ]
    },
    {
      "cell_type": "code",
      "source": [
        ""
      ],
      "metadata": {
        "id": "9tOvUFAWgmii"
      },
      "execution_count": null,
      "outputs": []
    }
  ]
}