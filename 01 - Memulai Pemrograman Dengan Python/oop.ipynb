{
 "cells": [
  {
   "cell_type": "code",
   "execution_count": 7,
   "id": "7e00a2f0",
   "metadata": {},
   "outputs": [],
   "source": [
    "class Kalkulator:\n",
    "    def __init__(self):\n",
    "        self.i = 1234\n",
    "    \n",
    "    def f(self):\n",
    "        return 'Hello World'"
   ]
  },
  {
   "cell_type": "code",
   "execution_count": 2,
   "id": "e11ff8ee",
   "metadata": {},
   "outputs": [
    {
     "data": {
      "text/plain": [
       "1234"
      ]
     },
     "execution_count": 2,
     "metadata": {},
     "output_type": "execute_result"
    }
   ],
   "source": [
    "Kalkulator.i"
   ]
  },
  {
   "cell_type": "code",
   "execution_count": 3,
   "id": "01297a1c",
   "metadata": {},
   "outputs": [
    {
     "data": {
      "text/plain": [
       "<function __main__.Kalkulator.f(self)>"
      ]
     },
     "execution_count": 3,
     "metadata": {},
     "output_type": "execute_result"
    }
   ],
   "source": [
    "Kalkulator.f"
   ]
  },
  {
   "cell_type": "code",
   "execution_count": 4,
   "id": "21d834a5",
   "metadata": {},
   "outputs": [],
   "source": [
    "Kalkulator.i = 1024"
   ]
  },
  {
   "cell_type": "code",
   "execution_count": 5,
   "id": "e073d954",
   "metadata": {},
   "outputs": [],
   "source": [
    "k = Kalkulator()"
   ]
  },
  {
   "cell_type": "code",
   "execution_count": 6,
   "id": "3ff07346",
   "metadata": {},
   "outputs": [
    {
     "name": "stdout",
     "output_type": "stream",
     "text": [
      "Hello World\n"
     ]
    }
   ],
   "source": [
    "print(k.f())"
   ]
  },
  {
   "cell_type": "code",
   "execution_count": 10,
   "id": "2e9468e6",
   "metadata": {},
   "outputs": [],
   "source": [
    "class Kalkulator:\n",
    "    \"\"\"contoh kelas kalkulator sederhana\"\"\"\n",
    " \n",
    "    def __init__(self, i=12345):\n",
    "        self.i = i  # i adalah variabel pada constructor, self.i adalah variabel dari class\n",
    " \n",
    "    def f(self):\n",
    "        return 'hello world'\n",
    "    \n",
    "    @classmethod\n",
    "    def tambah_angka(cls, angka1, angka2):\n",
    "        return '{} + {} = {}'.format(angka1, angka2, angka1 + angka2)"
   ]
  },
  {
   "cell_type": "code",
   "execution_count": 9,
   "id": "444490c5",
   "metadata": {},
   "outputs": [
    {
     "name": "stdout",
     "output_type": "stream",
     "text": [
      "1024\n"
     ]
    }
   ],
   "source": [
    "k = Kalkulator(i=1024)\n",
    "\n",
    "print(k.i)     "
   ]
  },
  {
   "cell_type": "code",
   "execution_count": 13,
   "id": "f6637adc",
   "metadata": {},
   "outputs": [
    {
     "data": {
      "text/plain": [
       "'1 + 2 = 3'"
      ]
     },
     "execution_count": 13,
     "metadata": {},
     "output_type": "execute_result"
    }
   ],
   "source": [
    "k = Kalkulator()\n",
    "k.tambah_angka(1,2)"
   ]
  },
  {
   "cell_type": "code",
   "execution_count": 14,
   "id": "1edc5c21",
   "metadata": {},
   "outputs": [],
   "source": [
    "class Kalkulator:\n",
    "    \n",
    "    def __init__(self, nilai=0):\n",
    "        self.nilai = nilai\n",
    "        \n",
    "    def tambah_angka(self, angka1, angka2):\n",
    "        self.nilai = angka1 + angka2\n",
    "        if self.nilai > 9:\n",
    "            print('kalkulator sederhana melebihi batas angka: {}'.format(self.nilai))\n",
    "        return self.nilai"
   ]
  },
  {
   "cell_type": "code",
   "execution_count": 15,
   "id": "3b15738d",
   "metadata": {},
   "outputs": [],
   "source": [
    "class KalkulatorKali(Kalkulator):\n",
    "    def kali_angka(self, angka1, angka2):\n",
    "        self.nilai = angka1 * angka2\n",
    "        return self.nilai"
   ]
  },
  {
   "cell_type": "code",
   "execution_count": 16,
   "id": "04d63224",
   "metadata": {},
   "outputs": [
    {
     "name": "stdout",
     "output_type": "stream",
     "text": [
      "6\n",
      "kalkulator sederhana melebihi batas angka: 11\n",
      "11\n"
     ]
    }
   ],
   "source": [
    "kk = KalkulatorKali()\n",
    "a = kk.kali_angka(2,3)\n",
    "print(a)\n",
    "\n",
    "b = kk.tambah_angka(5,6)\n",
    "print(b)"
   ]
  },
  {
   "cell_type": "code",
   "execution_count": 17,
   "id": "6f8d87e0",
   "metadata": {},
   "outputs": [],
   "source": [
    "class KalkulatorKali(Kalkulator):\n",
    "    def kali_angka(self, angka1, angka2):\n",
    "        self.nilai = angka1 * angka2\n",
    "        return self.nilai\n",
    "    \n",
    "    def tambah_angka(self, angka1, angka2):\n",
    "        self.nilai = angka1 + angka2\n",
    "        return self.nilai"
   ]
  },
  {
   "cell_type": "code",
   "execution_count": 18,
   "id": "f1e8da37",
   "metadata": {},
   "outputs": [
    {
     "name": "stdout",
     "output_type": "stream",
     "text": [
      "6\n",
      "11\n"
     ]
    }
   ],
   "source": [
    "kk = KalkulatorKali()\n",
    "a = kk.kali_angka(2,3)\n",
    "print(a)\n",
    "\n",
    "b = kk.tambah_angka(5,6)\n",
    "print(b)"
   ]
  },
  {
   "cell_type": "code",
   "execution_count": 19,
   "id": "f793b535",
   "metadata": {},
   "outputs": [],
   "source": [
    "class KalkulatorTambah(Kalkulator):\n",
    "    def tambah_angka(self, angka1, angka2):\n",
    "        if angka1 + angka2 <= 9:\n",
    "            super().tambah_angka(angka1, angka2)\n",
    "        else:\n",
    "            self.nilai = angka1 + angka2\n",
    "        return self.nilai"
   ]
  },
  {
   "cell_type": "code",
   "execution_count": 20,
   "id": "c9ff1932",
   "metadata": {},
   "outputs": [],
   "source": [
    "class Pegawai:\n",
    "    pass"
   ]
  },
  {
   "cell_type": "code",
   "execution_count": 21,
   "id": "89dd2c97",
   "metadata": {},
   "outputs": [],
   "source": [
    "don = Pegawai()"
   ]
  },
  {
   "cell_type": "code",
   "execution_count": 22,
   "id": "ab2eba19",
   "metadata": {},
   "outputs": [],
   "source": [
    "don.nama = \"Don Doo\""
   ]
  },
  {
   "cell_type": "code",
   "execution_count": 23,
   "id": "74980020",
   "metadata": {},
   "outputs": [],
   "source": [
    "don.bagian = \"IT\""
   ]
  },
  {
   "cell_type": "code",
   "execution_count": 24,
   "id": "08ee3321",
   "metadata": {},
   "outputs": [],
   "source": [
    "don.gaji = 999"
   ]
  },
  {
   "cell_type": "code",
   "execution_count": 27,
   "id": "955bab61",
   "metadata": {},
   "outputs": [
    {
     "name": "stdout",
     "output_type": "stream",
     "text": [
      "Don Doo\n"
     ]
    }
   ],
   "source": [
    "print(don.nama)"
   ]
  },
  {
   "cell_type": "code",
   "execution_count": 30,
   "id": "3512ca84",
   "metadata": {},
   "outputs": [
    {
     "name": "stderr",
     "output_type": "stream",
     "text": [
      "E\n",
      "======================================================================\n",
      "ERROR: C:\\Users\\Vulcan\\AppData\\Roaming\\jupyter\\runtime\\kernel-28691b08-8df4-449e-ab0b-c472ba11910f (unittest.loader._FailedTest)\n",
      "----------------------------------------------------------------------\n",
      "AttributeError: module '__main__' has no attribute 'C:\\Users\\Vulcan\\AppData\\Roaming\\jupyter\\runtime\\kernel-28691b08-8df4-449e-ab0b-c472ba11910f'\n",
      "\n",
      "----------------------------------------------------------------------\n",
      "Ran 1 test in 0.001s\n",
      "\n",
      "FAILED (errors=1)\n"
     ]
    },
    {
     "ename": "SystemExit",
     "evalue": "True",
     "output_type": "error",
     "traceback": [
      "An exception has occurred, use %tb to see the full traceback.\n",
      "\u001b[1;31mSystemExit\u001b[0m\u001b[1;31m:\u001b[0m True\n"
     ]
    },
    {
     "name": "stderr",
     "output_type": "stream",
     "text": [
      "C:\\Python39\\lib\\site-packages\\IPython\\core\\interactiveshell.py:3449: UserWarning: To exit: use 'exit', 'quit', or Ctrl-D.\n",
      "  warn(\"To exit: use 'exit', 'quit', or Ctrl-D.\", stacklevel=1)\n"
     ]
    }
   ],
   "source": [
    "import unittest\n",
    " \n",
    "def koneksi_ke_db():\n",
    "    print('[terhubung ke db]')\n",
    "def putus_koneksi_db(db):\n",
    "    print('[tidak terhubung ke db {}]'.format(db))\n",
    "\n",
    "class User:\n",
    "    username = ''\n",
    "    aktif = False\n",
    "    def __init__(self, db, username):  # using db sample\n",
    "        self.username = username\n",
    "    def set_aktif(self):\n",
    "        self.aktif = True\n",
    "\n",
    "class TestUser(unittest.TestCase):\n",
    "    def test_user_default_not_active(self):\n",
    "        db = koneksi_ke_db()\n",
    "        dicoding = User(db, 'dicoding')\n",
    "        self.assertFalse(dicoding.aktif)  # tidak aktif secara default\n",
    "        putus_koneksi_db(db)\n",
    " \n",
    "    def test_user_is_active(self):\n",
    "        db = koneksi_ke_db()\n",
    "        dicoding = User(db, 'dicoding')\n",
    "        dicoding.set_aktif()  # aktifkan user baru\n",
    "        self.assertTrue(dicoding.aktif)\n",
    "        putus_koneksi_db(db)\n",
    "\n",
    "if __name__ == '__main__':\n",
    "    unittest.main()"
   ]
  },
  {
   "cell_type": "code",
   "execution_count": 35,
   "id": "393dfa2f",
   "metadata": {},
   "outputs": [
    {
     "name": "stdout",
     "output_type": "stream",
     "text": [
      "{'nama': 'Eric', 'umur': 20, 'kota': 'New York'}\n"
     ]
    }
   ],
   "source": [
    "import json\n",
    "\n",
    "x = '{\"nama\":\"Eric\",\"umur\": 20,\"kota\": \"New York\"}'\n",
    "\n",
    "y = json.loads(x)\n",
    "print(y)"
   ]
  },
  {
   "cell_type": "code",
   "execution_count": 37,
   "id": "68586e16",
   "metadata": {},
   "outputs": [
    {
     "name": "stdout",
     "output_type": "stream",
     "text": [
      "Note: you may need to restart the kernel to use updated packages.\n"
     ]
    },
    {
     "name": "stderr",
     "output_type": "stream",
     "text": [
      "WARNING: Ignoring invalid distribution -p (c:\\python39\\lib\\site-packages)\n",
      "WARNING: Ignoring invalid distribution -p (c:\\python39\\lib\\site-packages)\n",
      "WARNING: Ignoring invalid distribution -ip (c:\\python39\\lib\\site-packages)\n",
      "WARNING: Ignoring invalid distribution - (c:\\python39\\lib\\site-packages)\n",
      "WARNING: Ignoring invalid distribution -p (c:\\python39\\lib\\site-packages)\n",
      "WARNING: Ignoring invalid distribution -p (c:\\python39\\lib\\site-packages)\n",
      "WARNING: Ignoring invalid distribution -ip (c:\\python39\\lib\\site-packages)\n",
      "WARNING: Ignoring invalid distribution - (c:\\python39\\lib\\site-packages)\n",
      "ERROR: Could not find a version that satisfies the requirement openurl (from versions: none)\n",
      "ERROR: No matching distribution found for openurl\n",
      "WARNING: Ignoring invalid distribution -p (c:\\python39\\lib\\site-packages)\n",
      "WARNING: Ignoring invalid distribution -p (c:\\python39\\lib\\site-packages)\n",
      "WARNING: Ignoring invalid distribution -ip (c:\\python39\\lib\\site-packages)\n",
      "WARNING: Ignoring invalid distribution - (c:\\python39\\lib\\site-packages)\n",
      "WARNING: You are using pip version 21.3; however, version 22.0.3 is available.\n",
      "You should consider upgrading via the 'C:\\Python39\\python.exe -m pip install --upgrade pip' command.\n"
     ]
    }
   ],
   "source": [
    "pip install openurl"
   ]
  },
  {
   "cell_type": "code",
   "execution_count": 41,
   "id": "27be8f45",
   "metadata": {},
   "outputs": [
    {
     "ename": "AttributeError",
     "evalue": "'Response' object has no attribute 'read'",
     "output_type": "error",
     "traceback": [
      "\u001b[1;31m---------------------------------------------------------------------------\u001b[0m",
      "\u001b[1;31mAttributeError\u001b[0m                            Traceback (most recent call last)",
      "\u001b[1;32m~\\AppData\\Local\\Temp/ipykernel_1460/4022863843.py\u001b[0m in \u001b[0;36m<module>\u001b[1;34m\u001b[0m\n\u001b[0;32m      3\u001b[0m \u001b[0murl\u001b[0m \u001b[1;33m=\u001b[0m \u001b[1;34m\"http://python.org/\"\u001b[0m\u001b[1;33m\u001b[0m\u001b[1;33m\u001b[0m\u001b[0m\n\u001b[0;32m      4\u001b[0m \u001b[0mpage\u001b[0m \u001b[1;33m=\u001b[0m \u001b[0mrequests\u001b[0m\u001b[1;33m.\u001b[0m\u001b[0mget\u001b[0m\u001b[1;33m(\u001b[0m\u001b[0murl\u001b[0m\u001b[1;33m)\u001b[0m\u001b[1;33m\u001b[0m\u001b[1;33m\u001b[0m\u001b[0m\n\u001b[1;32m----> 5\u001b[1;33m \u001b[0mhtml\u001b[0m \u001b[1;33m=\u001b[0m \u001b[0mpage\u001b[0m\u001b[1;33m.\u001b[0m\u001b[0mread\u001b[0m\u001b[1;33m(\u001b[0m\u001b[1;33m)\u001b[0m\u001b[1;33m.\u001b[0m\u001b[0mdecode\u001b[0m\u001b[1;33m(\u001b[0m\u001b[1;34m\"utf-8\"\u001b[0m\u001b[1;33m)\u001b[0m\u001b[1;33m\u001b[0m\u001b[1;33m\u001b[0m\u001b[0m\n\u001b[0m\u001b[0;32m      6\u001b[0m \u001b[0msoup\u001b[0m \u001b[1;33m=\u001b[0m \u001b[0mBeautifulSoup\u001b[0m\u001b[1;33m(\u001b[0m\u001b[0mhtml\u001b[0m\u001b[1;33m,\u001b[0m \u001b[1;34m\"html.parser\"\u001b[0m\u001b[1;33m)\u001b[0m\u001b[1;33m\u001b[0m\u001b[1;33m\u001b[0m\u001b[0m\n\u001b[0;32m      7\u001b[0m \u001b[0msoup\u001b[0m\u001b[1;33m.\u001b[0m\u001b[0mtitle\u001b[0m\u001b[1;33m\u001b[0m\u001b[1;33m\u001b[0m\u001b[0m\n",
      "\u001b[1;31mAttributeError\u001b[0m: 'Response' object has no attribute 'read'"
     ]
    }
   ],
   "source": [
    "import requests \n",
    "\n",
    "url = \"http://python.org/\"\n",
    "page = requests.get(url)\n",
    "html = page.read().decode(\"utf-8\")\n",
    "soup = BeautifulSoup(html, \"html.parser\")\n",
    "soup.title"
   ]
  },
  {
   "cell_type": "code",
   "execution_count": 42,
   "id": "00b693ae",
   "metadata": {},
   "outputs": [
    {
     "name": "stdout",
     "output_type": "stream",
     "text": [
      "5.5 is of type <class 'float'>\n"
     ]
    }
   ],
   "source": [
    "a = 5.5\n",
    "print(a, \"is of type\", type(a))"
   ]
  },
  {
   "cell_type": "code",
   "execution_count": 43,
   "id": "e0e24bb4",
   "metadata": {},
   "outputs": [
    {
     "data": {
      "text/plain": [
       "'Dicoding'"
      ]
     },
     "execution_count": 43,
     "metadata": {},
     "output_type": "execute_result"
    }
   ],
   "source": [
    "d = \"Halo Dicoding!\"\n",
    "d[5:13]"
   ]
  },
  {
   "cell_type": "code",
   "execution_count": 44,
   "id": "65d0e71b",
   "metadata": {},
   "outputs": [
    {
     "name": "stdout",
     "output_type": "stream",
     "text": [
      "[20, 25, 30]\n"
     ]
    }
   ],
   "source": [
    "x = [10,15,20,25,30]\n",
    "print(x[-3:])"
   ]
  },
  {
   "cell_type": "code",
   "execution_count": 45,
   "id": "b1e8fcd6",
   "metadata": {},
   "outputs": [
    {
     "name": "stdout",
     "output_type": "stream",
     "text": [
      "[60, 70, 80]\n"
     ]
    }
   ],
   "source": [
    "x = [10,20,30,40,50,60,70,80]\n",
    "print(x[5:])"
   ]
  },
  {
   "cell_type": "code",
   "execution_count": 46,
   "id": "bccc5e94",
   "metadata": {},
   "outputs": [
    {
     "data": {
      "text/plain": [
       "'00300'"
      ]
     },
     "execution_count": 46,
     "metadata": {},
     "output_type": "execute_result"
    }
   ],
   "source": [
    "x = 300\n",
    "str(x).zfill(5)"
   ]
  },
  {
   "cell_type": "code",
   "execution_count": null,
   "id": "17660782",
   "metadata": {},
   "outputs": [],
   "source": []
  },
  {
   "cell_type": "code",
   "execution_count": null,
   "id": "af60ea8b",
   "metadata": {},
   "outputs": [],
   "source": []
  },
  {
   "cell_type": "code",
   "execution_count": null,
   "id": "9a4e0434",
   "metadata": {},
   "outputs": [],
   "source": []
  },
  {
   "cell_type": "code",
   "execution_count": null,
   "id": "709924b5",
   "metadata": {},
   "outputs": [],
   "source": []
  },
  {
   "cell_type": "code",
   "execution_count": null,
   "id": "a95af1e0",
   "metadata": {},
   "outputs": [],
   "source": []
  }
 ],
 "metadata": {
  "kernelspec": {
   "display_name": "Python 3 (ipykernel)",
   "language": "python",
   "name": "python3"
  },
  "language_info": {
   "codemirror_mode": {
    "name": "ipython",
    "version": 3
   },
   "file_extension": ".py",
   "mimetype": "text/x-python",
   "name": "python",
   "nbconvert_exporter": "python",
   "pygments_lexer": "ipython3",
   "version": "3.9.6"
  }
 },
 "nbformat": 4,
 "nbformat_minor": 5
}
