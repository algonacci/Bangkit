{
 "cells": [
  {
   "cell_type": "code",
   "execution_count": 1,
   "id": "7b0252e0",
   "metadata": {},
   "outputs": [
    {
     "name": "stdout",
     "output_type": "stream",
     "text": [
      "Cetak ini jika benar\n",
      "10\n"
     ]
    }
   ],
   "source": [
    "kelerengku = 10\n",
    "if kelerengku:\n",
    "   print (\"Cetak ini jika benar\")\n",
    "   print (kelerengku)"
   ]
  },
  {
   "cell_type": "code",
   "execution_count": 3,
   "id": "6d627c2d",
   "metadata": {},
   "outputs": [
    {
     "name": "stdout",
     "output_type": "stream",
     "text": [
      "Masukkan tinggi badan Anda : 140\n",
      "Maaf, Anda belum boleh masuk\n"
     ]
    }
   ],
   "source": [
    "tinggi_badan = int(input(\"Masukkan tinggi badan Anda : \"))\n",
    "if tinggi_badan>=160:\n",
    "   print (\"Silakan, Anda boleh masuk\")\n",
    "else:\n",
    "   print (\"Maaf, Anda belum boleh masuk\")"
   ]
  },
  {
   "cell_type": "code",
   "execution_count": 4,
   "id": "1c8aa19a",
   "metadata": {},
   "outputs": [
    {
     "name": "stdout",
     "output_type": "stream",
     "text": [
      "Bilangan 4 adalah genap\n"
     ]
    }
   ],
   "source": [
    "bilangan = 4\n",
    "if bilangan % 2 == 0:\n",
    "    print('Bilangan {} adalah genap'.format(bilangan))\n",
    "else:\n",
    "    print('Bilangan {} adalah ganjil'.format(bilangan))"
   ]
  },
  {
   "cell_type": "code",
   "execution_count": 5,
   "id": "c017515d",
   "metadata": {},
   "outputs": [
    {
     "name": "stdout",
     "output_type": "stream",
     "text": [
      "Masukkan nilai tugas Anda : 40\n",
      "Waduh, Anda mendapat nilai D\n",
      "Yuk belajar lebih giat lagi!\n"
     ]
    }
   ],
   "source": [
    "nilai = int(input(\"Masukkan nilai tugas Anda : \"))\n",
    "if nilai>80:\n",
    "   print(\"Selamat! Anda mendapat nilai A\")\n",
    "   print(\"Pertahankan!\")\n",
    "elif nilai>70:\n",
    "   print(\"Hore! Anda mendapat nilai B\")\n",
    "   print(\"Tingkatkan!\")\n",
    "elif nilai>60:\n",
    "   print(\"Hmm.. Anda mendapat nilai C\")\n",
    "   print(\"Ayo semangat!\")\n",
    "else:\n",
    "   print(\"Waduh, Anda mendapat nilai D\")\n",
    "   print(\"Yuk belajar lebih giat lagi!\")\n"
   ]
  },
  {
   "cell_type": "code",
   "execution_count": 7,
   "id": "35c860fb",
   "metadata": {},
   "outputs": [
    {
     "name": "stdout",
     "output_type": "stream",
     "text": [
      "selamat\n"
     ]
    }
   ],
   "source": [
    "lulus = True\n",
    "kata = \"selamat\" if lulus else \"perbaiki\"\n",
    "print(kata)"
   ]
  },
  {
   "cell_type": "code",
   "execution_count": 8,
   "id": "93d09c69",
   "metadata": {},
   "outputs": [
    {
     "name": "stdout",
     "output_type": "stream",
     "text": [
      "Tidak ada data\n"
     ]
    }
   ],
   "source": [
    "hasil = None\n",
    "pesan = hasil or \"Tidak ada data\"\n",
    "print(pesan)"
   ]
  },
  {
   "cell_type": "code",
   "execution_count": 14,
   "id": "6d10139d",
   "metadata": {},
   "outputs": [
    {
     "name": "stdout",
     "output_type": "stream",
     "text": [
      "65\n"
     ]
    }
   ],
   "source": [
    "hasil = 65\n",
    "if hasil is None:\n",
    "    print('tidak ada data')\n",
    "else:\n",
    "    print(hasil)"
   ]
  },
  {
   "cell_type": "code",
   "execution_count": 18,
   "id": "3ecde22a",
   "metadata": {},
   "outputs": [
    {
     "name": "stdout",
     "output_type": "stream",
     "text": [
      "Huruf: D\n",
      "Huruf: i\n",
      "Huruf: c\n",
      "Huruf: o\n",
      "Huruf: d\n",
      "Huruf: i\n",
      "Huruf: n\n",
      "Huruf: g\n"
     ]
    }
   ],
   "source": [
    "for huruf in 'Dicoding':\n",
    "    print('Huruf: {}'.format(huruf))"
   ]
  },
  {
   "cell_type": "code",
   "execution_count": 19,
   "id": "032bfc46",
   "metadata": {},
   "outputs": [
    {
     "name": "stdout",
     "output_type": "stream",
     "text": [
      "Flower : mawar\n",
      "Flower : melati\n",
      "Flower : anggrek\n"
     ]
    }
   ],
   "source": [
    "flowers = ['mawar','melati','anggrek']\n",
    "\n",
    "for flower in flowers:\n",
    "    print('Flower : {}'.format(flower))"
   ]
  },
  {
   "cell_type": "code",
   "execution_count": 20,
   "id": "0e527ea4",
   "metadata": {},
   "outputs": [
    {
     "name": "stdout",
     "output_type": "stream",
     "text": [
      "Flower: mawar\n",
      "Flower: melati\n",
      "Flower: anggrek\n"
     ]
    }
   ],
   "source": [
    "flowers = ['mawar','melati','anggrek']\n",
    "\n",
    "for index in range(len(flowers)):\n",
    "    print('Flower: {}'.format(flowers[index]))"
   ]
  },
  {
   "cell_type": "code",
   "execution_count": 21,
   "id": "f13d0a59",
   "metadata": {},
   "outputs": [
    {
     "name": "stdout",
     "output_type": "stream",
     "text": [
      "hitungannya adalah: 0\n",
      "hitungannya adalah: 1\n",
      "hitungannya adalah: 2\n",
      "hitungannya adalah: 3\n",
      "hitungannya adalah: 4\n",
      "hitungannya adalah: 5\n",
      "hitungannya adalah: 6\n"
     ]
    }
   ],
   "source": [
    "count = 0\n",
    "\n",
    "while (count < 7):\n",
    "    print('hitungannya adalah: {}'.format(count))\n",
    "    count += 1"
   ]
  },
  {
   "cell_type": "code",
   "execution_count": 31,
   "id": "d975f40d",
   "metadata": {},
   "outputs": [
    {
     "name": "stdout",
     "output_type": "stream",
     "text": [
      "******\n",
      "*****\n",
      "****\n",
      "***\n",
      "**\n",
      "*\n"
     ]
    }
   ],
   "source": [
    "for i in range(0,6):\n",
    "    for j in range (0, 6 - i):\n",
    "        print('*', end='')\n",
    "    print()"
   ]
  }
 ],
 "metadata": {
  "kernelspec": {
   "display_name": "Python 3 (ipykernel)",
   "language": "python",
   "name": "python3"
  },
  "language_info": {
   "codemirror_mode": {
    "name": "ipython",
    "version": 3
   },
   "file_extension": ".py",
   "mimetype": "text/x-python",
   "name": "python",
   "nbconvert_exporter": "python",
   "pygments_lexer": "ipython3",
   "version": "3.9.6"
  }
 },
 "nbformat": 4,
 "nbformat_minor": 5
}
