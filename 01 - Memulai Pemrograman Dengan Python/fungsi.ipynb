{
 "cells": [
  {
   "cell_type": "code",
   "execution_count": 3,
   "id": "cdcb811b",
   "metadata": {},
   "outputs": [
    {
     "name": "stdout",
     "output_type": "stream",
     "text": [
      "5\n"
     ]
    }
   ],
   "source": [
    "def cetak(param1):\n",
    "    print(param1)\n",
    "    return\n",
    "\n",
    "cetak(5)"
   ]
  },
  {
   "cell_type": "code",
   "execution_count": 4,
   "id": "45a6abf7",
   "metadata": {},
   "outputs": [],
   "source": [
    "def kali(angka1, angka2):\n",
    "    hasil = angka1 * angka2\n",
    "    return hasil"
   ]
  },
  {
   "cell_type": "code",
   "execution_count": 5,
   "id": "e6161549",
   "metadata": {},
   "outputs": [
    {
     "name": "stdout",
     "output_type": "stream",
     "text": [
      "200\n"
     ]
    }
   ],
   "source": [
    "keluaran = kali(10,20)\n",
    "print(keluaran)"
   ]
  },
  {
   "cell_type": "code",
   "execution_count": 6,
   "id": "3d71a97c",
   "metadata": {},
   "outputs": [],
   "source": [
    "def kuadrat(x):\n",
    "    return x*x"
   ]
  },
  {
   "cell_type": "code",
   "execution_count": 7,
   "id": "2507af06",
   "metadata": {},
   "outputs": [
    {
     "name": "stdout",
     "output_type": "stream",
     "text": [
      "100\n"
     ]
    }
   ],
   "source": [
    "a = 10\n",
    "k = kuadrat(a)\n",
    "\n",
    "print(k)"
   ]
  },
  {
   "cell_type": "code",
   "execution_count": null,
   "id": "0492c269",
   "metadata": {},
   "outputs": [],
   "source": []
  }
 ],
 "metadata": {
  "kernelspec": {
   "display_name": "Python 3 (ipykernel)",
   "language": "python",
   "name": "python3"
  },
  "language_info": {
   "codemirror_mode": {
    "name": "ipython",
    "version": 3
   },
   "file_extension": ".py",
   "mimetype": "text/x-python",
   "name": "python",
   "nbconvert_exporter": "python",
   "pygments_lexer": "ipython3",
   "version": "3.9.6"
  }
 },
 "nbformat": 4,
 "nbformat_minor": 5
}
